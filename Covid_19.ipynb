{
 "cells": [
  {
   "cell_type": "markdown",
   "id": "d4bdcd0c",
   "metadata": {},
   "source": [
    "# Covid 19 Analysis and EDA and Visualization\n",
    "\n",
    "* You can find the full project at: https://ourworldindata.org/coronavirus\n",
    "* Daily-updated dataset link: https://covid.ourworldindata.org/data/owid-covid-data.csv\n",
    "* We'll be exploring the dataset from: https://covid.ourworldindata.org\n",
    "* Dashboard Example: https://coronavirus.jhu.edu/map.html"
   ]
  },
  {
   "cell_type": "markdown",
   "id": "df7272ef",
   "metadata": {},
   "source": [
    "### Load the need Libraries"
   ]
  },
  {
   "cell_type": "code",
   "execution_count": 13,
   "id": "e39e3d9d",
   "metadata": {},
   "outputs": [],
   "source": [
    "import numpy as np \n",
    "import pandas as pd\n",
    "import matplotlib.pyplot as plt \n",
    "import seaborn as sns \n",
    "import warnings"
   ]
  },
  {
   "cell_type": "markdown",
   "id": "41558b79",
   "metadata": {},
   "source": [
    "### ignore the warnings messages and display the graph inside the jupyter"
   ]
  },
  {
   "cell_type": "code",
   "execution_count": 14,
   "id": "e7ce5a63",
   "metadata": {},
   "outputs": [],
   "source": [
    "warnings.filterwarnings('ignore')\n",
    "%matplotlib inline"
   ]
  },
  {
   "cell_type": "markdown",
   "id": "93153fdc",
   "metadata": {},
   "source": [
    "### reading the dataset from website"
   ]
  },
  {
   "cell_type": "code",
   "execution_count": null,
   "id": "4a326676",
   "metadata": {},
   "outputs": [],
   "source": [
    "covid19_df = pd.read_csv('https://covid.ourworldindata.org/data/owid-covid-data.csv')"
   ]
  },
  {
   "cell_type": "code",
   "execution_count": null,
   "id": "651752e0",
   "metadata": {},
   "outputs": [],
   "source": [
    "type(covid19_df)    "
   ]
  },
  {
   "cell_type": "code",
   "execution_count": null,
   "id": "c48f8530",
   "metadata": {},
   "outputs": [],
   "source": [
    "pd.options.display.min_rows = 100  \n",
    "\n",
    "covid19_df.head(50)"
   ]
  },
  {
   "cell_type": "code",
   "execution_count": null,
   "id": "d83ab558",
   "metadata": {},
   "outputs": [],
   "source": [
    "first_5_rows = covid19_df.head(5)   \n",
    "first_5_rows"
   ]
  },
  {
   "cell_type": "code",
   "execution_count": null,
   "id": "eacb1b69",
   "metadata": {},
   "outputs": [],
   "source": [
    "type(first_5_rows)"
   ]
  },
  {
   "cell_type": "code",
   "execution_count": null,
   "id": "b101f8c4",
   "metadata": {},
   "outputs": [],
   "source": [
    "last_5_rows = covid19_df.tail(5)\n",
    "last_5_rows"
   ]
  },
  {
   "cell_type": "markdown",
   "id": "34d99867",
   "metadata": {},
   "source": [
    "### display statisitical infom about the dataset"
   ]
  },
  {
   "cell_type": "code",
   "execution_count": null,
   "id": "3db75b62",
   "metadata": {},
   "outputs": [],
   "source": [
    "covid19_df.info()  "
   ]
  },
  {
   "cell_type": "code",
   "execution_count": null,
   "id": "cc25cd48",
   "metadata": {},
   "outputs": [],
   "source": [
    "covid19_df.dtypes   # show the data type for each columns in the dataset"
   ]
  },
  {
   "cell_type": "markdown",
   "id": "5d084542",
   "metadata": {},
   "source": [
    "### statistical data [mean, std, count, min, first quarter1, ..etc]"
   ]
  },
  {
   "cell_type": "code",
   "execution_count": null,
   "id": "a46df562",
   "metadata": {},
   "outputs": [],
   "source": [
    "covid19_df.describe()"
   ]
  },
  {
   "cell_type": "code",
   "execution_count": null,
   "id": "5ec0be4c",
   "metadata": {},
   "outputs": [],
   "source": [
    "covid19_df.agg(['mean', 'std'])"
   ]
  },
  {
   "cell_type": "code",
   "execution_count": null,
   "id": "e1ad13e4",
   "metadata": {},
   "outputs": [],
   "source": [
    "columns = covid19_df.columns\n",
    "columns"
   ]
  },
  {
   "cell_type": "code",
   "execution_count": null,
   "id": "518744df",
   "metadata": {},
   "outputs": [],
   "source": [
    "first_5_rows"
   ]
  },
  {
   "cell_type": "code",
   "execution_count": null,
   "id": "39e0feb4",
   "metadata": {},
   "outputs": [],
   "source": [
    "covid19_df.shape"
   ]
  },
  {
   "cell_type": "code",
   "execution_count": null,
   "id": "9371f58b",
   "metadata": {},
   "outputs": [],
   "source": [
    "covid19_df.head(100).style.background_gradient(cmap='Greens', )"
   ]
  },
  {
   "cell_type": "markdown",
   "id": "92a00f27",
   "metadata": {},
   "source": [
    "### Explore Italy Data"
   ]
  },
  {
   "cell_type": "code",
   "execution_count": null,
   "id": "faf4463e",
   "metadata": {},
   "outputs": [],
   "source": [
    "covid19_df['location'].unique() "
   ]
  },
  {
   "cell_type": "code",
   "execution_count": null,
   "id": "bdf8c7f6",
   "metadata": {},
   "outputs": [],
   "source": [
    "covid19_df['location'].nunique()"
   ]
  },
  {
   "cell_type": "code",
   "execution_count": null,
   "id": "564f206f",
   "metadata": {},
   "outputs": [],
   "source": [
    "covid19_df['location'].unique().size"
   ]
  },
  {
   "cell_type": "code",
   "execution_count": null,
   "id": "084086f0",
   "metadata": {},
   "outputs": [],
   "source": [
    "italy = covid19_df[covid19_df['location'] == 'Italy']"
   ]
  },
  {
   "cell_type": "code",
   "execution_count": null,
   "id": "27311040",
   "metadata": {},
   "outputs": [],
   "source": [
    "italy.head()"
   ]
  },
  {
   "cell_type": "code",
   "execution_count": null,
   "id": "4cdb5f3b",
   "metadata": {},
   "outputs": [],
   "source": [
    "type(italy)"
   ]
  },
  {
   "cell_type": "code",
   "execution_count": null,
   "id": "30a380c3",
   "metadata": {},
   "outputs": [],
   "source": [
    "italy.shape"
   ]
  },
  {
   "cell_type": "code",
   "execution_count": null,
   "id": "dbd88ab5",
   "metadata": {},
   "outputs": [],
   "source": [
    "italy.describe()"
   ]
  },
  {
   "cell_type": "code",
   "execution_count": null,
   "id": "467cf62b",
   "metadata": {},
   "outputs": [],
   "source": [
    "italy.info()"
   ]
  },
  {
   "cell_type": "code",
   "execution_count": null,
   "id": "4cd32e7b",
   "metadata": {},
   "outputs": [],
   "source": [
    "italy.dtypes"
   ]
  },
  {
   "cell_type": "markdown",
   "id": "c1cf827c",
   "metadata": {},
   "source": [
    "### number of null values in each columns"
   ]
  },
  {
   "cell_type": "code",
   "execution_count": null,
   "id": "a35c78bd",
   "metadata": {},
   "outputs": [],
   "source": [
    "italy.isna().sum()"
   ]
  },
  {
   "cell_type": "code",
   "execution_count": null,
   "id": "e5534654",
   "metadata": {},
   "outputs": [],
   "source": [
    "italy.head(100).style.background_gradient(cmap='Reds')"
   ]
  },
  {
   "cell_type": "code",
   "execution_count": null,
   "id": "89a71df1",
   "metadata": {},
   "outputs": [],
   "source": [
    "columns"
   ]
  },
  {
   "cell_type": "markdown",
   "id": "abc7188c",
   "metadata": {},
   "source": [
    "### The highest number of cases in italy"
   ]
  },
  {
   "cell_type": "code",
   "execution_count": null,
   "id": "de3eb147",
   "metadata": {},
   "outputs": [],
   "source": [
    "italy['total_cases'].max()"
   ]
  },
  {
   "cell_type": "markdown",
   "id": "cda64b5c",
   "metadata": {},
   "source": [
    "### all data of the highest number of cases "
   ]
  },
  {
   "cell_type": "code",
   "execution_count": null,
   "id": "60e87ae4",
   "metadata": {},
   "outputs": [],
   "source": [
    "italy[italy['total_cases'] == italy['total_cases'].max()]"
   ]
  },
  {
   "cell_type": "markdown",
   "id": "702a2e13",
   "metadata": {},
   "source": [
    "### The lowest number of cases in italy"
   ]
  },
  {
   "cell_type": "code",
   "execution_count": null,
   "id": "a690fe1f",
   "metadata": {},
   "outputs": [],
   "source": [
    "italy['total_cases'].min()"
   ]
  },
  {
   "cell_type": "markdown",
   "id": "7ce3f640",
   "metadata": {},
   "source": [
    "### date of the loest number of cases \n"
   ]
  },
  {
   "cell_type": "code",
   "execution_count": null,
   "id": "534bc860",
   "metadata": {},
   "outputs": [],
   "source": [
    "italy[italy['total_cases'] ==  italy['total_cases'].min()]"
   ]
  },
  {
   "cell_type": "markdown",
   "id": "8dc88877",
   "metadata": {},
   "source": [
    "### The max of total tests"
   ]
  },
  {
   "cell_type": "code",
   "execution_count": null,
   "id": "4e8e85b8",
   "metadata": {},
   "outputs": [],
   "source": [
    "italy['total_tests'].sum()"
   ]
  },
  {
   "cell_type": "markdown",
   "id": "181dc086",
   "metadata": {},
   "source": [
    "### Row of max total tests"
   ]
  },
  {
   "cell_type": "code",
   "execution_count": null,
   "id": "413c0d94",
   "metadata": {},
   "outputs": [],
   "source": [
    "italy[italy['total_tests'] == italy['total_tests'].max()]"
   ]
  },
  {
   "cell_type": "markdown",
   "id": "4cd5dd83",
   "metadata": {},
   "source": [
    "### date of the max total tests"
   ]
  },
  {
   "cell_type": "code",
   "execution_count": null,
   "id": "758279e8",
   "metadata": {},
   "outputs": [],
   "source": [
    "italy[italy['total_tests'] == italy['total_tests'].max()]['date'].values[0]"
   ]
  },
  {
   "cell_type": "code",
   "execution_count": null,
   "id": "6f6bd4f3",
   "metadata": {},
   "outputs": [],
   "source": [
    "italy.head()"
   ]
  },
  {
   "cell_type": "markdown",
   "id": "5420e550",
   "metadata": {},
   "source": [
    "### total missing values"
   ]
  },
  {
   "cell_type": "code",
   "execution_count": null,
   "id": "f7a70ba2",
   "metadata": {},
   "outputs": [],
   "source": [
    "len(italy['total_tests']) - italy['total_tests'].isna().sum() "
   ]
  },
  {
   "cell_type": "markdown",
   "id": "c59c99e3",
   "metadata": {},
   "source": [
    "### date tested the lowest amount"
   ]
  },
  {
   "cell_type": "code",
   "execution_count": null,
   "id": "c6fd4f18",
   "metadata": {},
   "outputs": [],
   "source": [
    "italy[italy['total_tests'] == italy['total_tests'].min()]['date'].values[0] "
   ]
  },
  {
   "cell_type": "markdown",
   "id": "fc802b1b",
   "metadata": {},
   "source": [
    "### the total poster"
   ]
  },
  {
   "cell_type": "code",
   "execution_count": null,
   "id": "7c7cf2bc",
   "metadata": {},
   "outputs": [],
   "source": [
    "italy['total_boosters'].max()"
   ]
  },
  {
   "cell_type": "code",
   "execution_count": null,
   "id": "2aa6870b",
   "metadata": {},
   "outputs": [],
   "source": [
    "italy[italy['total_boosters'] == italy['total_boosters'].max()]"
   ]
  },
  {
   "cell_type": "markdown",
   "id": "2b306284",
   "metadata": {},
   "source": [
    "### date of the max booster tooken"
   ]
  },
  {
   "cell_type": "code",
   "execution_count": null,
   "id": "0f0737d9",
   "metadata": {},
   "outputs": [],
   "source": [
    "italy[italy['total_boosters'] == italy['total_boosters'].max()]['date'].values[0]"
   ]
  },
  {
   "cell_type": "markdown",
   "id": "2c6a6a06",
   "metadata": {},
   "source": [
    "### total number of people took the booster"
   ]
  },
  {
   "cell_type": "code",
   "execution_count": null,
   "id": "021f9b2d",
   "metadata": {},
   "outputs": [],
   "source": [
    "italy['total_boosters'].sum()"
   ]
  },
  {
   "cell_type": "markdown",
   "id": "fdfd5a74",
   "metadata": {},
   "source": [
    "### number of missing recored"
   ]
  },
  {
   "cell_type": "code",
   "execution_count": null,
   "id": "7cacf554",
   "metadata": {},
   "outputs": [],
   "source": [
    "len(italy['weekly_hosp_admissions']) - italy['weekly_hosp_admissions'].isna().sum()"
   ]
  },
  {
   "cell_type": "markdown",
   "id": "2a7d8b23",
   "metadata": {},
   "source": [
    "### the max hospital admissions recored"
   ]
  },
  {
   "cell_type": "code",
   "execution_count": null,
   "id": "574e335d",
   "metadata": {},
   "outputs": [],
   "source": [
    "italy['weekly_hosp_admissions'].max()"
   ]
  },
  {
   "cell_type": "markdown",
   "id": "7f73b7b6",
   "metadata": {},
   "source": [
    "### the min hospital admisions recored"
   ]
  },
  {
   "cell_type": "code",
   "execution_count": null,
   "id": "05d9683e",
   "metadata": {},
   "outputs": [],
   "source": [
    "italy['weekly_hosp_admissions'].min()"
   ]
  },
  {
   "cell_type": "markdown",
   "id": "32e35207",
   "metadata": {},
   "source": [
    "### row of the max admisstions recored"
   ]
  },
  {
   "cell_type": "code",
   "execution_count": null,
   "id": "88f14d19",
   "metadata": {},
   "outputs": [],
   "source": [
    "italy[italy['weekly_hosp_admissions'] == italy['weekly_hosp_admissions'].max()]"
   ]
  },
  {
   "cell_type": "markdown",
   "id": "f8d35f39",
   "metadata": {},
   "source": [
    "### date of the max hospital admisstion recored "
   ]
  },
  {
   "cell_type": "code",
   "execution_count": null,
   "id": "d3877e40",
   "metadata": {},
   "outputs": [],
   "source": [
    "italy[italy['weekly_hosp_admissions'] == italy['weekly_hosp_admissions'].max()]['date'].values[0] "
   ]
  },
  {
   "cell_type": "markdown",
   "id": "1e6ca33c",
   "metadata": {},
   "source": [
    "### date of the max recored"
   ]
  },
  {
   "cell_type": "code",
   "execution_count": null,
   "id": "9231038a",
   "metadata": {},
   "outputs": [],
   "source": [
    "italy['date'].sort_values(ascending = False).head(1).values[0]"
   ]
  },
  {
   "cell_type": "code",
   "execution_count": null,
   "id": "4015dfb7",
   "metadata": {},
   "outputs": [],
   "source": [
    "italy_df_overtime = italy.groupby([\"date\"])[[\"total_cases\",\"new_cases\",\"total_deaths\",\"new_deaths\"]].sum()\n",
    "italy_df_overtime[:5]"
   ]
  },
  {
   "cell_type": "code",
   "execution_count": null,
   "id": "a90706ce",
   "metadata": {},
   "outputs": [],
   "source": [
    "# Using line-plot\n",
    "\n",
    "plt.figure(figsize=(20,10))\n",
    "    \n",
    "    \n",
    "#plt.plot(df_world_over_time['date'], df_world_over_time['total_cases'])\n",
    "\n",
    "plt.plot(italy_df_overtime.index, italy_df_overtime['total_cases'])\n",
    "\n",
    " \n",
    "plt.title('Evolution of Confirmed Covid-19 cases over time in the word', fontsize=16)\n",
    "plt.xlabel('Days', fontsize=16)\n",
    "plt.ylabel('Confirmed cases', fontsize=16)\n",
    "plt.show()"
   ]
  },
  {
   "cell_type": "code",
   "execution_count": null,
   "id": "b4134925",
   "metadata": {},
   "outputs": [],
   "source": [
    "italy['date'] = pd.to_datetime(italy_df_overtime['date'])"
   ]
  },
  {
   "cell_type": "code",
   "execution_count": null,
   "id": "28f9e55b",
   "metadata": {},
   "outputs": [],
   "source": [
    "plt.barh(italy_df_overtime.index, italy_df_overtime['total_cases'])\n",
    "plt.show()"
   ]
  },
  {
   "cell_type": "code",
   "execution_count": null,
   "id": "01d98dcd",
   "metadata": {},
   "outputs": [],
   "source": []
  },
  {
   "cell_type": "code",
   "execution_count": null,
   "id": "556eed05",
   "metadata": {},
   "outputs": [],
   "source": []
  },
  {
   "cell_type": "code",
   "execution_count": null,
   "id": "3e2d2534",
   "metadata": {},
   "outputs": [],
   "source": []
  }
 ],
 "metadata": {
  "kernelspec": {
   "display_name": "Python 3 (ipykernel)",
   "language": "python",
   "name": "python3"
  },
  "language_info": {
   "codemirror_mode": {
    "name": "ipython",
    "version": 3
   },
   "file_extension": ".py",
   "mimetype": "text/x-python",
   "name": "python",
   "nbconvert_exporter": "python",
   "pygments_lexer": "ipython3",
   "version": "3.11.4"
  }
 },
 "nbformat": 4,
 "nbformat_minor": 5
}
